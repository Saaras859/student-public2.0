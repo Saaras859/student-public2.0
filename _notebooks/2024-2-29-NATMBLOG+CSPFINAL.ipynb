---
toc: true
comments: true
layout: post
title: InternetLesson
type: tangibles
courses: {'csp': {'week': 15}}
---
## OSI Model

The OSI (Open Systems Interconnection) model is a conceptual framework that standardizes the functions of a telecommunication or computing system into seven abstraction layers. Each layer in the OSI model performs specific functions, and together they facilitate communication between different systems. Here's a brief overview of what each layer does:  

**1. Physical Layer (Layer 1):**
- Manages the physical connection and transmission of raw data bits.

**2. Data Link Layer (Layer 2):**
- Ensures reliable communication over a physical layer, handling framing and addressing.

**3. Network Layer (Layer 3):**
- Focuses on logical addressing and routing data between different networks.

**4. Transport Layer (Layer 4):**
- Manages end-to-end communication, ensuring reliable and ordered data delivery.

