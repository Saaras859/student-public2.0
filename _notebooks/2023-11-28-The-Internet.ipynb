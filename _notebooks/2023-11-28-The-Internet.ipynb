{
 "cells": [
  {
   "cell_type": "markdown",
   "metadata": {},
   "source": [
    "---\n",
    "layout: post\n",
    "title: Collectable Lesson\n",
    "description: Usage of compareTo and toString in Collectable framework. This example uses lots of abstraction and is able to \n",
    "courses: { csa: {week: 14} }\n",
    "type: ccc\n",
    "---"
   ]
  }
 ],
 "metadata": {
  "language_info": {
   "name": "python"
  }
 },
 "nbformat": 4,
 "nbformat_minor": 2
}
